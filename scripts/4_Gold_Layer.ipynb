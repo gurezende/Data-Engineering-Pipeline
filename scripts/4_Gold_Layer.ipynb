{
 "cells": [
  {
   "cell_type": "markdown",
   "metadata": {
    "application/vnd.databricks.v1+cell": {
     "cellMetadata": {
      "byteLimit": 2048000,
      "rowLimit": 10000
     },
     "inputWidgets": {},
     "nuid": "8d62eb66-d22f-4da5-b9b7-f0d0f3963c08",
     "showTitle": false,
     "title": ""
    }
   },
   "source": [
    "# Gold Layer\n",
    "In this notebook, we are creating the final tables for the Gold Layer of our Data Pipeline. In this layer, the data is ready for consumption by all the clients.\n",
    "\n",
    "In this Layer, we will:\n",
    "* Create a Weekly table for the stocks\n",
    "* Create a Monthly Table for the stocks\n"
   ]
  },
  {
   "cell_type": "code",
   "execution_count": 0,
   "metadata": {
    "application/vnd.databricks.v1+cell": {
     "cellMetadata": {
      "byteLimit": 2048000,
      "rowLimit": 10000
     },
     "inputWidgets": {},
     "nuid": "d43b9728-1218-4448-b758-85c786460612",
     "showTitle": true,
     "title": "Imports"
    }
   },
   "outputs": [],
   "source": [
    "# Importing needed Pyspark functions\n",
    "from pyspark.sql import functions as F\n",
    "from pyspark.sql.functions import col, when\n",
    "from pyspark.sql.types import StructType, StructField, StringType, DoubleType, IntegerType, DateType\n",
    "from pyspark.sql.window import Window"
   ]
  },
  {
   "cell_type": "code",
   "execution_count": 0,
   "metadata": {
    "application/vnd.databricks.v1+cell": {
     "cellMetadata": {
      "byteLimit": 2048000,
      "rowLimit": 10000
     },
     "inputWidgets": {},
     "nuid": "71e9bc3d-ee0f-47dc-9d66-9b7ce53d09b0",
     "showTitle": true,
     "title": "Function to save to Gold Folder"
    }
   },
   "outputs": [],
   "source": [
    "# Function to save datasets to the Silver Layer\n",
    "def save_gold(df, name):\n",
    "    '''Save dataset to the silver folder\n",
    "    Inputs:\n",
    "    name: str = name of the folder in the silver layer'''\n",
    "\n",
    "    # Build path in the Silver Layer\n",
    "    file_path = f'/FileStore/tables/gold/{name}'\n",
    "\n",
    "    df.coalesce(1).write.format('parquet').mode('overwrite').save(file_path)\n",
    "    print(f'File {name} saved successfuly.')"
   ]
  },
  {
   "cell_type": "code",
   "execution_count": 0,
   "metadata": {
    "application/vnd.databricks.v1+cell": {
     "cellMetadata": {
      "byteLimit": 2048000,
      "rowLimit": 10000
     },
     "inputWidgets": {},
     "nuid": "36939704-acc9-4e97-bb9f-c58cf129ac18",
     "showTitle": false,
     "title": ""
    }
   },
   "outputs": [],
   "source": [
    "# Open the Stocks table\n",
    "stocks = spark.read.parquet('/FileStore/tables/silver/stocks')"
   ]
  },
  {
   "cell_type": "code",
   "execution_count": 0,
   "metadata": {
    "application/vnd.databricks.v1+cell": {
     "cellMetadata": {
      "byteLimit": 2048000,
      "rowLimit": 10000
     },
     "inputWidgets": {},
     "nuid": "3c3ec9d2-2acc-4760-b46e-57207090caad",
     "showTitle": true,
     "title": "Weekly Dataset"
    }
   },
   "outputs": [
    {
     "output_type": "stream",
     "name": "stdout",
     "output_type": "stream",
     "text": [
      "File weekly_stocks saved successfuly.\n"
     ]
    }
   ],
   "source": [
    "# Creating dataset of stock prices by week\n",
    "weekly_stocks = (\n",
    "    stocks # dataset\n",
    "    .groupBy('ticker', F.year('date').alias('year'), F.weekofyear('date').alias('week')) # group by ticker, year and week\n",
    "    .agg( F.first('open').alias('open'), # Get open value\n",
    "          F.max('high').alias('high'), # get high for the week\n",
    "          F.min('low').alias('low'), # get low for the week\n",
    "          F.last('close').alias('close'), # get close for the week\n",
    "          F.sum('volume').alias('volume') ) # calc total volume for the week\n",
    "    .filter( F.concat(col('year'), col('week')) != '20191' ) # remove first week 2019, as 2019-12-31 is being considered as week 1 in 2020 and it's calculating wrong the high open and close\n",
    "    .sort('ticker', 'year', 'week')\n",
    "    )\n",
    "\n",
    "# Save dataset to the Gold Layer\n",
    "save_gold(weekly_stocks, 'weekly_stocks')"
   ]
  },
  {
   "cell_type": "code",
   "execution_count": 0,
   "metadata": {
    "application/vnd.databricks.v1+cell": {
     "cellMetadata": {
      "byteLimit": 2048000,
      "rowLimit": 10000
     },
     "inputWidgets": {},
     "nuid": "5564acde-b6cd-40ba-85be-312a3dee7e80",
     "showTitle": true,
     "title": "Monthly Dataset"
    }
   },
   "outputs": [
    {
     "output_type": "stream",
     "name": "stdout",
     "output_type": "stream",
     "text": [
      "File monthly_stocks saved successfuly.\n"
     ]
    }
   ],
   "source": [
    "# Creating dataset of stock prices by month\n",
    "monthly_stocks = (\n",
    "    stocks # dataset\n",
    "    .groupBy('ticker', F.year('date').alias('year'), F.month('date').alias('month')) # group by ticker, year and month\n",
    "    .agg( F.first('open').alias('open'), # Get open value\n",
    "          F.max('high').alias('high'), # get high for the month\n",
    "          F.min('low').alias('low'), # get low for the month\n",
    "          F.last('close').alias('close'), # get close for the month\n",
    "          F.sum('volume').alias('volume') ) # calc total volume for the month\n",
    "    .sort('ticker', 'year', 'month')\n",
    "    )\n",
    "\n",
    "# Save dataset to the Gold Layer\n",
    "save_gold(monthly_stocks, 'monthly_stocks')"
   ]
  },
  {
   "cell_type": "code",
   "execution_count": 0,
   "metadata": {
    "application/vnd.databricks.v1+cell": {
     "cellMetadata": {},
     "inputWidgets": {},
     "nuid": "4d8b19b5-7418-4de1-beb3-ffbfbbe36347",
     "showTitle": false,
     "title": ""
    }
   },
   "outputs": [],
   "source": []
  }
 ],
 "metadata": {
  "application/vnd.databricks.v1+notebook": {
   "dashboards": [],
   "language": "python",
   "notebookMetadata": {
    "mostRecentlyExecutedCommandWithImplicitDF": {
     "commandId": 3373657055778165,
     "dataframes": [
      "_sqldf"
     ]
    },
    "pythonIndentUnit": 4
   },
   "notebookName": "4. Gold Layer",
   "widgets": {}
  }
 },
 "nbformat": 4,
 "nbformat_minor": 0
}
